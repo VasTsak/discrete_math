{
 "cells": [
  {
   "cell_type": "code",
   "execution_count": 1,
   "metadata": {},
   "outputs": [],
   "source": [
    "from collections import namedtuple\n",
    "Item = namedtuple(\"Item\", [\"index\", \"value\", \"weight\"])\n",
    "\n",
    "items = [\n",
    "    Item(0, 5, 2),\n",
    "    Item(1, 6, 2),\n",
    "    Item(2, 7, 3),\n",
    "    Item(3, 8, 2),\n",
    "    Item(4, 9, 3)\n",
    "]"
   ]
  },
  {
   "cell_type": "code",
   "execution_count": 4,
   "metadata": {},
   "outputs": [],
   "source": [
    "\n",
    "class DynamicProgramming:\n",
    "    def __init__(self, capacity, items):\n",
    "        self.K = capacity\n",
    "        self.items = items\n",
    "        self.total_value = 0\n",
    "        self.total_weight = 0\n",
    "        self.decision = [0] * len(items)\n",
    "\n",
    "    def populate_reward_matrix(self):\n",
    "\n",
    "        self.reward_matrix = [[0] * self.K for _ in range(len(self.items))]\n",
    "\n",
    "        for i in range(len(items)):\n",
    "            for j in range(self.K):\n",
    "                if j >= items[i].weight:\n",
    "                    for s in range(i, len(items)):\n",
    "                        if i > 0:\n",
    "                            residual_weight = i - items[i].weight\n",
    "                            value = items[i].value + self.reward_matrix[items[i].index-1][residual_weight]\n",
    "                        else:\n",
    "                            value = items[i].value\n",
    "                        self.reward_matrix[items[s].index][j] = value\n",
    "\n",
    "    def parse_solution(self):\n",
    "\n",
    "        capacity = self.K-1\n",
    "\n",
    "        for item in reversed(items):\n",
    "            while capacity >= 0:\n",
    "                if self.reward_matrix[item.index][capacity] == self.reward_matrix[item.index-1][capacity]:\n",
    "                    break\n",
    "                else:\n",
    "                    self.decision[item.index] = 1\n",
    "                    capacity -= 1\n",
    "\n",
    "    \n",
    "    def run(self):\n",
    "\n",
    "        for item in self.items:\n",
    "            if item.weight <= self.K:\n",
    "                self.decision[item.index] = 1\n",
    "                self.K -= item.weight\n",
    "                self.total_value += item.value\n",
    "    "
   ]
  },
  {
   "cell_type": "code",
   "execution_count": 5,
   "metadata": {},
   "outputs": [
    {
     "name": "stdout",
     "output_type": "stream",
     "text": [
      "[[0, 0, 5, 5, 5, 5, 5, 5, 5, 5, 5, 5, 5, 5, 5, 5, 5, 5, 5, 5], [0, 0, 11, 11, 11, 11, 11, 11, 11, 11, 11, 11, 11, 11, 11, 11, 11, 11, 11, 11], [0, 0, 11, 18, 18, 18, 18, 18, 18, 18, 18, 18, 18, 18, 18, 18, 18, 18, 18, 18], [0, 0, 8, 8, 8, 8, 8, 8, 8, 8, 8, 8, 8, 8, 8, 8, 8, 8, 8, 8], [0, 0, 8, 9, 9, 9, 9, 9, 9, 9, 9, 9, 9, 9, 9, 9, 9, 9, 9, 9]]\n"
     ]
    }
   ],
   "source": [
    "dp = DynamicProgramming(20, items)\n",
    "dp.populate_reward_matrix()\n",
    "print(dp.reward_matrix)\n",
    "dp.parse_solution()"
   ]
  },
  {
   "cell_type": "code",
   "execution_count": 7,
   "metadata": {},
   "outputs": [
    {
     "data": {
      "text/plain": [
       "5"
      ]
     },
     "execution_count": 7,
     "metadata": {},
     "output_type": "execute_result"
    }
   ],
   "source": [
    "len(dp.reward_matrix)"
   ]
  },
  {
   "cell_type": "code",
   "execution_count": 8,
   "metadata": {},
   "outputs": [
    {
     "ename": "AttributeError",
     "evalue": "'list' object has no attribute 'shape'",
     "output_type": "error",
     "traceback": [
      "\u001b[0;31m---------------------------------------------------------------------------\u001b[0m",
      "\u001b[0;31mAttributeError\u001b[0m                            Traceback (most recent call last)",
      "\u001b[1;32m/Users/vasileiostsakalos/Documents/GitHub/discrete_math/knapsack/dp.ipynb Cell 5\u001b[0m line \u001b[0;36m1\n\u001b[0;32m----> <a href='vscode-notebook-cell:/Users/vasileiostsakalos/Documents/GitHub/discrete_math/knapsack/dp.ipynb#W4sZmlsZQ%3D%3D?line=0'>1</a>\u001b[0m dp\u001b[39m.\u001b[39;49mreward_matrix\u001b[39m.\u001b[39;49mshape\n",
      "\u001b[0;31mAttributeError\u001b[0m: 'list' object has no attribute 'shape'"
     ]
    }
   ],
   "source": []
  },
  {
   "cell_type": "code",
   "execution_count": null,
   "metadata": {},
   "outputs": [],
   "source": []
  }
 ],
 "metadata": {
  "kernelspec": {
   "display_name": "Python 3",
   "language": "python",
   "name": "python3"
  },
  "language_info": {
   "codemirror_mode": {
    "name": "ipython",
    "version": 3
   },
   "file_extension": ".py",
   "mimetype": "text/x-python",
   "name": "python",
   "nbconvert_exporter": "python",
   "pygments_lexer": "ipython3",
   "version": "3.11.3"
  }
 },
 "nbformat": 4,
 "nbformat_minor": 2
}
